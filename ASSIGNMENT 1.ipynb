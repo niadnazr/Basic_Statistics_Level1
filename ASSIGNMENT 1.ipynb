{
 "cells": [
  {
   "cell_type": "markdown",
   "id": "2731bf58",
   "metadata": {},
   "source": [
    "Q1) Identify the Data type for the Following:\n",
    "\n",
    "Activity\n",
    "Data Type\n",
    "Number of beatings from Wife:   \n",
    "\n",
    "A. DISCRETE DATA\n",
    "\n",
    "Results of rolling a dice\n",
    "\n",
    "A.DISCRETE DATA\n",
    "\n",
    "Weight of a person\n",
    "\n",
    "A.CONTINOUS DATA\n",
    "\n",
    "Weight of Gold\n",
    "\n",
    "A.CONTINOUS DATA\n",
    "\n",
    "Distance between two places\n",
    "\n",
    "A.CONTINOUS DATA\n",
    "\n",
    "Length of a leaf\n",
    "\n",
    "A.CONTINOUS DATA\n",
    "\n",
    "Dog's weight\n",
    "\n",
    "A.CONTINOUS DATA\n",
    "\n",
    "Blue Color\n",
    "\n",
    "A.DISCRETE DATA\n",
    "\n",
    "Number of kids\n",
    "\n",
    "A.DISCRETE DATA\n",
    "\n",
    "Number of tickets in Indian railways\n",
    "\n",
    "A.DISCRETE DATA\n",
    "\n",
    "Number of times married\n",
    "\n",
    "A.DISCRETE DATA\n",
    "\n",
    "Gender (Male or Female)\n",
    "\n",
    "A.DISCRETE DATA"
   ]
  },
  {
   "cell_type": "markdown",
   "id": "0e9a4971",
   "metadata": {},
   "source": [
    "Q2) Identify the Data types, which were among the following Nominal, Ordinal, Interval, Ratio. Data Data Type \n",
    "\n",
    "Gender\n",
    "\n",
    "A. DISCRETE DATA - NOMINAL\n",
    "\n",
    "High School Class Ranking\n",
    "\n",
    "A.DISCRETE DATA - NOMINAL \n",
    "\n",
    "Celsius Temperature\n",
    "\n",
    "A.DISCRETE DATA - INTERVAL \n",
    "Weight\n",
    "\n",
    "A.CONTINOUS DATA - RATIO \n",
    "\n",
    "\n",
    "Hair Color\n",
    "\n",
    "A.CONTINOUS DATA - RATIO \n",
    "\n",
    "Socioeconomic Status\n",
    "\n",
    "A.DISCRETE DATA - INTERVAL\n",
    "\n",
    "Fahrenheit Temperature\n",
    "\n",
    "A.CONTINOUS DATA - RATIO\n",
    "\n",
    "Height\n",
    "\n",
    "A.CONTINOUS DATA - RATIO\n",
    "\n",
    "Type of living accommodation\n",
    "\n",
    "A.CONTINOUS DATA - ODINAL\n",
    "\n",
    "Level of Agreement\n",
    "\n",
    "A.DISCRETE DATA - INTERVAL\n",
    "\n",
    "\n",
    "IQ(Intelligence Scale)\n",
    "\n",
    "A.DISCRETE DATA - INTERVAL\n",
    "\n",
    "Sales Figures\n",
    "\n",
    "A.DISCRETE DATA - INTERVAL\n",
    "\n",
    "Blood Group\n",
    "\n",
    "A.DISCRETE DATA - RATIO\n",
    "\n",
    "Time Of Day\n",
    "\n",
    "A.CONTINOUS DATA - INTERVAL\n",
    "\n",
    "Time on a Clock with Hands\n",
    "\n",
    "A.CONTINOUS DATA - INTERVAL\n",
    "\n",
    "Number of Children\n",
    "\n",
    "A. DISCRETE DATA - INTERVAL\n",
    "\n",
    "Religious Preference\n",
    "\n",
    "A.DISCRETE DATA - RATIO\n",
    "\n",
    "Barometer Pressure\n",
    "\n",
    "A.  NOMINAL\n",
    "\n",
    "SAT Scores\n",
    "\n",
    "A.CONTINOUS DATA - RATIO\n",
    "\n",
    "Years of Education\n",
    "\n",
    "A.DISCRETE - NOMINAL"
   ]
  },
  {
   "cell_type": "markdown",
   "id": "da31f4b3",
   "metadata": {},
   "source": [
    "Q3) Three Coins are tossed, find the probability that two heads and one tail are obtained?"
   ]
  },
  {
   "cell_type": "code",
   "execution_count": 42,
   "id": "1930dd5a",
   "metadata": {},
   "outputs": [
    {
     "name": "stdout",
     "output_type": "stream",
     "text": [
      "0.36328125\n"
     ]
    }
   ],
   "source": [
    "from scipy import stats\n",
    "import pandas as pd\n",
    "from scipy.stats import binom\n",
    "n = 3\n",
    "p = 0.5\n",
    "pdf = (stats.binom.cdf(3,8,0.5))\n",
    "print(pdf)"
   ]
  },
  {
   "cell_type": "markdown",
   "id": "3228b659",
   "metadata": {},
   "source": [
    "Q4)  Two Dice are rolled, find the probability that sum is\n",
    "\n",
    "\t•\tEqual to 1\n",
    "    \n",
    "\t•\tLess than or equal to 4\n",
    "    \n",
    "\t•\tSum is divisible by 2 and  3\n"
   ]
  },
  {
   "cell_type": "code",
   "execution_count": 80,
   "id": "caadb727",
   "metadata": {},
   "outputs": [
    {
     "name": "stdout",
     "output_type": "stream",
     "text": [
      "p(sum=1) is  0 \n",
      "since two dice thrown will have a minimum sum of 2, \n",
      "hence 0 is the probability of having sum = 1\n",
      "\n",
      "p(sum=4 or <4) is 6/36, \n",
      "i.e  0.16666666666666666 \n",
      "\n",
      "p(sum divisible by 2 and 3 ) is 6/36 , \n",
      "i.e  0.16666666666666666\n"
     ]
    }
   ],
   "source": [
    "dice = 2\n",
    "N = 36\n",
    "#p(sum=1)\n",
    "n1 = 0\n",
    "print('p(sum=1) is ',n1,'\\nsince two dice thrown will have a minimum sum of 2, \\nhence',n1,'is the probability of having sum = 1')\n",
    "#p(sum = (4 or <4)) is (1,1),(1,2),(1,3),(2,1),(2,2),(3,1), so the total possiblity is 6\n",
    "n2 = 6\n",
    "print('\\np(sum=4 or <4) is 6/36, \\ni.e ',n2/N,'\\n')\n",
    "#p(sum divisible by 2 and 3) is 6. so (1,5),(2,4),(3,3),(4,2),(5,1),(6,6) is the possibilities. i.e 5 values\n",
    "n3 = 6\n",
    "print('p(sum divisible by 2 and 3 ) is 6/36 , \\ni.e ',n3/N)"
   ]
  },
  {
   "cell_type": "markdown",
   "id": "a1a963b3",
   "metadata": {},
   "source": [
    "Q5)  A bag contains 2 red, 3 green and 2 blue balls. Two balls are drawn at random. What is the probability that none of the balls drawn is blue?\n"
   ]
  },
  {
   "cell_type": "code",
   "execution_count": 79,
   "id": "3beca505",
   "metadata": {},
   "outputs": [
    {
     "name": "stdout",
     "output_type": "stream",
     "text": [
      "P(HAVING NO BLUE BALL IS)  0.47619047619047616\n"
     ]
    }
   ],
   "source": [
    "import math\n",
    "Redball = 2\n",
    "Greenball = 3\n",
    "blueball = 2\n",
    "N = 7\n",
    "#While Drawing the first ball without blue balls which is 2 is 5/7. \n",
    "#Remaining balls after drawing the first ball is 6. removing the 2 blue balls again we get 6-2 = 4. p will be 4/6\n",
    "#hence p(having no blue ball ) is 5/7 * 2/3 OR 5c2/7c2\n",
    "print('P(HAVING NO BLUE BALL IS) ',math.perm(5,2)/math.perm(7,2))"
   ]
  },
  {
   "cell_type": "markdown",
   "id": "9a3128d9",
   "metadata": {},
   "source": [
    "\n",
    "\n",
    "\n",
    "\n",
    "\n",
    "\n",
    "\n",
    "\n",
    "Q6) Calculate the Expected number of candies for a randomly selected child \n",
    "Below are the probabilities of count of candies for children (ignoring the nature of the child-Generalized view)\n",
    "\n",
    " CHILD      ||       Candiescount     ||        Probability\n",
    "\n",
    " A          ||          1             ||          0.015\n",
    "\n",
    " B          ||           4            ||          0.20\n",
    "\n",
    " C          ||          3             ||          0.65\n",
    "\n",
    " D          ||           5            ||          0.005\n",
    " \n",
    " E          ||           6            ||          0.01\n",
    "\n",
    " F          ||          2             ||          0.120\n",
    "  \n",
    " Child A – probability of having 1 candy = 0.015.\n",
    "\n",
    " Child B – probability of having 4 candies = 0.20\n"
   ]
  },
  {
   "cell_type": "code",
   "execution_count": 146,
   "id": "c64bcc08",
   "metadata": {},
   "outputs": [
    {
     "name": "stdout",
     "output_type": "stream",
     "text": [
      "   CANDIESCOUNT  PROBABILITY  COUNT * PROBABILITY\n",
      "0             1        0.015                0.015\n",
      "1             4        0.200                0.800\n",
      "2             3        0.650                1.950\n",
      "3             5        0.005                0.025\n",
      "4             6        0.010                0.060\n",
      "5             2        0.120                0.240\n",
      "\n",
      "\n",
      "P(EXPECTED NUMBER OF CANDIES FOR A RANDOMLY PICKED CHILD) IS  3.09\n"
     ]
    }
   ],
   "source": [
    "#since we have the probabilities in the questions, \n",
    "#as the question is asking about the p(expected number of candies for a randomly selected child) is \n",
    "#the sum of each p * count. i.e, \n",
    "import pandas as pd\n",
    "import numpy as np\n",
    "candiescount = (1,4,3,5,6,2)\n",
    "probability = (0.015,0.20,0.65,0.005,0.01,0.120)\n",
    "df = pd.DataFrame(candiescount,columns=(['CANDIESCOUNT']))\n",
    "df['PROBABILITY']=probability\n",
    "df['COUNT * PROBABILITY'] = df.CANDIESCOUNT* df.PROBABILITY\n",
    "print(df)\n",
    "print('\\n\\nP(EXPECTED NUMBER OF CANDIES FOR A RANDOMLY PICKED CHILD) IS ',np.sum(df['COUNT * PROBABILITY']))"
   ]
  },
  {
   "cell_type": "markdown",
   "id": "a9b7b7ba",
   "metadata": {},
   "source": [
    "Q7) Calculate Mean, Median, Mode, Variance, Standard Deviation, Range &     comment about the values / draw inferences, for the given dataset\n",
    "\t\n",
    "    •\tFor Points,Score,Weigh>\n",
    "\n",
    "Find Mean, Median, Mode, Variance, Standard Deviation, and Range and also Comment about the values/ Draw some inferences.\n"
   ]
  },
  {
   "cell_type": "code",
   "execution_count": 18,
   "id": "c63ff27d",
   "metadata": {},
   "outputs": [
    {
     "name": "stdout",
     "output_type": "stream",
     "text": [
      "\n",
      "\n",
      "\n",
      "           Points      Score      Weigh\n",
      "count  32.000000  32.000000  32.000000\n",
      "mean    3.596563   3.217250  17.848750\n",
      "std     0.534679   0.978457   1.786943\n",
      "min     2.760000   1.513000  14.500000\n",
      "25%     3.080000   2.581250  16.892500\n",
      "50%     3.695000   3.325000  17.710000\n",
      "75%     3.920000   3.610000  18.900000\n",
      "max     4.930000   5.424000  22.900000\n",
      "\n",
      "MEAN.\n",
      "Mean of points is 3.5965625\n",
      "Mean of score is 3.21725\n",
      "Mean of weigh is 17.84875\n",
      "\n",
      "MEDIAN\n",
      "Median of points is 3.6950000000000003\n",
      "Median of Score is 3.325\n",
      "Median of Weigh is 17.71\n",
      "\n",
      "MODE\n",
      "Mode of points is 3.92\n",
      "Mode of score is 3.44\n",
      "Mode of weigh is 17.02\n",
      "\n",
      "VARIENCE\n",
      "Varience of points is 0.2858813508064516\n",
      "Varience of Score is 0.9573789677419355\n",
      "Varience of Weigh is 3.1931661290322575\n",
      "\n",
      "STANDARD DEVIATION\n",
      "Standard deviation of points is 0.5346787360709715\n",
      "Standard deviation of Score is 0.9784574429896967\n",
      "Standard deviation of Weigh is 1.786943236096843\n",
      "\n",
      "RANGE\n",
      "Range of points is 2.17\n",
      "Range of Score is 3.9110000000000005\n",
      "Range of Weigh is 8.399999999999999\n"
     ]
    },
    {
     "name": "stderr",
     "output_type": "stream",
     "text": [
      "/Users/nihadnazar/opt/anaconda3/lib/python3.9/site-packages/seaborn/distributions.py:2619: FutureWarning: `distplot` is a deprecated function and will be removed in a future version. Please adapt your code to use either `displot` (a figure-level function with similar flexibility) or `kdeplot` (an axes-level function for kernel density plots).\n",
      "  warnings.warn(msg, FutureWarning)\n",
      "/Users/nihadnazar/opt/anaconda3/lib/python3.9/site-packages/seaborn/distributions.py:2619: FutureWarning: `distplot` is a deprecated function and will be removed in a future version. Please adapt your code to use either `displot` (a figure-level function with similar flexibility) or `kdeplot` (an axes-level function for kernel density plots).\n",
      "  warnings.warn(msg, FutureWarning)\n",
      "/Users/nihadnazar/opt/anaconda3/lib/python3.9/site-packages/seaborn/distributions.py:2619: FutureWarning: `distplot` is a deprecated function and will be removed in a future version. Please adapt your code to use either `displot` (a figure-level function with similar flexibility) or `kdeplot` (an axes-level function for kernel density plots).\n",
      "  warnings.warn(msg, FutureWarning)\n"
     ]
    },
    {
     "data": {
      "text/plain": [
       "<AxesSubplot:xlabel='Weigh', ylabel='Density'>"
      ]
     },
     "execution_count": 18,
     "metadata": {},
     "output_type": "execute_result"
    },
    {
     "data": {
      "image/png": "[encoded data removed]",
      "text/plain": [
       "<Figure size 432x288 with 1 Axes>"
      ]
     },
     "metadata": {
      "needs_background": "light"
     },
     "output_type": "display_data"
    }
   ],
   "source": [
    "import pandas as pd\n",
    "import numpy as np\n",
    "import statistics\n",
    "import seaborn as sns\n",
    "cars = pd.read_csv('//Users//nihadnazar//Desktop//Q7.csv')\n",
    "print('\\n\\n\\n',cars.describe())\n",
    "print('\\nMEAN.\\nMean of points is',statistics.mean(cars['Points']))\n",
    "print('Mean of score is',statistics.mean(cars['Score']))\n",
    "print('Mean of weigh is',statistics.mean(cars['Weigh']))\n",
    "print('\\nMEDIAN\\nMedian of points is',statistics.median(cars['Points']))\n",
    "print('Median of Score is',statistics.median(cars['Score']))\n",
    "print('Median of Weigh is',statistics.median(cars['Weigh']))\n",
    "print('\\nMODE\\nMode of points is',statistics.mode(cars['Points']))\n",
    "print('Mode of score is',statistics.mode(cars['Score']))\n",
    "print('Mode of weigh is',statistics.mode(cars['Weigh']))\n",
    "print('\\nVARIENCE\\nVarience of points is',statistics.variance(cars['Points']))\n",
    "print('Varience of Score is',statistics.variance(cars['Score']))\n",
    "print('Varience of Weigh is',statistics.variance(cars['Weigh']))\n",
    "print('\\nSTANDARD DEVIATION\\nStandard deviation of points is',statistics.stdev(cars['Points']))\n",
    "print('Standard deviation of Score is',statistics.stdev(cars['Score']))\n",
    "print('Standard deviation of Weigh is',statistics.stdev(cars['Weigh']))\n",
    "print('\\nRANGE\\nRange of points is',max(cars['Points'])- min(cars['Points']))\n",
    "print('Range of Score is',max(cars['Score'])- min(cars['Score']))\n",
    "print('Range of Weigh is',max(cars['Weigh'])- min(cars['Weigh']))\n",
    "sns.distplot(cars['Points'],hist=False)\n",
    "sns.distplot(cars['Score'],hist=False)\n",
    "sns.distplot(cars['Weigh'],hist=False)"
   ]
  },
  {
   "cell_type": "markdown",
   "id": "1e1230c8",
   "metadata": {},
   "source": [
    "Q9) Calculate Skewness, Kurtosis & draw inferences on the following data\n",
    "    \n",
    "    a. Cars speed and distance \n",
    "    \n",
    "    b. SP and Weight(WT)"
   ]
  },
  {
   "cell_type": "code",
   "execution_count": 72,
   "id": "ff1f49ad",
   "metadata": {},
   "outputs": [
    {
     "name": "stdout",
     "output_type": "stream",
     "text": [
      "Q9 A.\n",
      "SKEWNESS OF THE DATA IS:\n",
      " speed   -0.117510\n",
      "dist     0.806895\n",
      "dtype: float64\n",
      "\n",
      "KURTOSIS OF THE DATA IS:\n",
      " speed   -0.508994\n",
      "dist     0.405053\n",
      "dtype: float64\n"
     ]
    },
    {
     "name": "stderr",
     "output_type": "stream",
     "text": [
      "/Users/nihadnazar/opt/anaconda3/lib/python3.9/site-packages/seaborn/distributions.py:2619: FutureWarning: `distplot` is a deprecated function and will be removed in a future version. Please adapt your code to use either `displot` (a figure-level function with similar flexibility) or `kdeplot` (an axes-level function for kernel density plots).\n",
      "  warnings.warn(msg, FutureWarning)\n",
      "/Users/nihadnazar/opt/anaconda3/lib/python3.9/site-packages/seaborn/distributions.py:2619: FutureWarning: `distplot` is a deprecated function and will be removed in a future version. Please adapt your code to use either `displot` (a figure-level function with similar flexibility) or `kdeplot` (an axes-level function for kernel density plots).\n",
      "  warnings.warn(msg, FutureWarning)\n"
     ]
    },
    {
     "data": {
      "text/plain": [
       "<seaborn.axisgrid.FacetGrid at 0x7f9482092a90>"
      ]
     },
     "execution_count": 72,
     "metadata": {},
     "output_type": "execute_result"
    },
    {
     "data": {
      "image/png": "[encoded data removed]",
      "text/plain": [
       "<Figure size 432x288 with 1 Axes>"
      ]
     },
     "metadata": {
      "needs_background": "light"
     },
     "output_type": "display_data"
    },
    {
     "data": {
      "image/png": "[encoded data removed]",
      "text/plain": [
       "<Figure size 360x360 with 1 Axes>"
      ]
     },
     "metadata": {
      "needs_background": "light"
     },
     "output_type": "display_data"
    },
    {
     "data": {
      "image/png": "[encoded data removed]",
      "text/plain": [
       "<Figure size 360x360 with 1 Axes>"
      ]
     },
     "metadata": {
      "needs_background": "light"
     },
     "output_type": "display_data"
    }
   ],
   "source": [
    "cars1 = pd.read_csv('//Users//nihadnazar//Desktop//Q9_a.csv')\n",
    "cars1 = cars1.iloc[:,1:]\n",
    "print('Q9 A.')\n",
    "print('SKEWNESS OF THE DATA IS:\\n', cars1.skew())\n",
    "print('\\nKURTOSIS OF THE DATA IS:\\n',cars1.kurt())\n",
    "sns.distplot(cars1['speed'],hist=False,color='blue')\n",
    "sns.distplot(cars1['dist'],hist=False,color='red')\n",
    "sns.displot(cars1['speed'],kind='kde')\n",
    "sns.displot(cars1['dist'],kind='kde')"
   ]
  },
  {
   "cell_type": "code",
   "execution_count": 73,
   "id": "a83d934a",
   "metadata": {},
   "outputs": [
    {
     "name": "stdout",
     "output_type": "stream",
     "text": [
      "Q9 B.\n",
      "\n",
      "SKEWNESS OF THE DATA IS:\n",
      " SP    1.611450\n",
      "WT   -0.614753\n",
      "dtype: float64\n",
      "\n",
      "KURTOSIS OF THE DATA IS:\n",
      " SP    2.977329\n",
      "WT    0.950291\n",
      "dtype: float64\n"
     ]
    },
    {
     "name": "stderr",
     "output_type": "stream",
     "text": [
      "/Users/nihadnazar/opt/anaconda3/lib/python3.9/site-packages/seaborn/distributions.py:2619: FutureWarning: `distplot` is a deprecated function and will be removed in a future version. Please adapt your code to use either `displot` (a figure-level function with similar flexibility) or `kdeplot` (an axes-level function for kernel density plots).\n",
      "  warnings.warn(msg, FutureWarning)\n",
      "/Users/nihadnazar/opt/anaconda3/lib/python3.9/site-packages/seaborn/distributions.py:2619: FutureWarning: `distplot` is a deprecated function and will be removed in a future version. Please adapt your code to use either `displot` (a figure-level function with similar flexibility) or `kdeplot` (an axes-level function for kernel density plots).\n",
      "  warnings.warn(msg, FutureWarning)\n"
     ]
    },
    {
     "data": {
      "text/plain": [
       "<seaborn.axisgrid.FacetGrid at 0x7f9482132940>"
      ]
     },
     "execution_count": 73,
     "metadata": {},
     "output_type": "execute_result"
    },
    {
     "data": {
      "image/png": "[encoded data removed]",
      "text/plain": [
       "<Figure size 432x288 with 1 Axes>"
      ]
     },
     "metadata": {
      "needs_background": "light"
     },
     "output_type": "display_data"
    },
    {
     "data": {
      "image/png": "[encoded data removed]",
      "text/plain": [
       "<Figure size 360x360 with 1 Axes>"
      ]
     },
     "metadata": {
      "needs_background": "light"
     },
     "output_type": "display_data"
    },
    {
     "data": {
      "image/png": "[encoded data removed]",
      "text/plain": [
       "<Figure size 360x360 with 1 Axes>"
      ]
     },
     "metadata": {
      "needs_background": "light"
     },
     "output_type": "display_data"
    }
   ],
   "source": [
    "cars2 = pd.read_csv('//Users//nihadnazar//Desktop//Q9_b.csv')\n",
    "cars2 = cars2.iloc[:,1:]\n",
    "print('Q9 B.')\n",
    "print('\\nSKEWNESS OF THE DATA IS:\\n', cars2.skew())\n",
    "print('\\nKURTOSIS OF THE DATA IS:\\n',cars2.kurt())\n",
    "sns.distplot(cars2['SP'],hist=False,color='yellow')\n",
    "sns.distplot(cars2['WT'],hist=False,color = 'green')\n",
    "sns.displot(cars2['SP'],kind='kde')\n",
    "sns.displot(cars2['WT'],kind='kde')"
   ]
  },
  {
   "cell_type": "markdown",
   "id": "89acc041",
   "metadata": {},
   "source": [
    "Q10) Draw inferences about the following boxplot & histogram\n",
    "A. \n",
    "  - most of the data points are found in the range of 50 - 100 having frequency 200.\n",
    "  - Least range is 400 around 0 - 10\n",
    "  - As we can see, we have a right skewed graph here\n",
    "  - "
   ]
  },
  {
   "cell_type": "markdown",
   "id": "05a2bd9d",
   "metadata": {},
   "source": [
    "Q11)  Suppose we want to estimate the average weight of an adult male in Mexico. \n",
    "We draw a random sample of 2,000 men from a population of 3,000,000 men and weigh them.\n",
    "We find that the average person in our sample weighs 200 pounds,\n",
    "and the standard deviation of the sample is 30 pounds.\n",
    "Calculate 94%,98%,96% confidence interval?\n"
   ]
  },
  {
   "cell_type": "code",
   "execution_count": 74,
   "id": "10dd964a",
   "metadata": {},
   "outputs": [
    {
     "name": "stdout",
     "output_type": "stream",
     "text": [
      "151.98941166303933 \n",
      " 135.59101162730624 \n",
      " 145.63858676296698\n",
      "\n",
      "C.I OF 94% IS (143.57619175546247, 256.42380824453755)\n",
      "C.I OF 98% IS (130.2095637787748, 269.7904362212252)\n",
      "C.I OF 96% IS (138.38753268104531, 261.61246731895466)\n"
     ]
    }
   ],
   "source": [
    "from scipy import stats\n",
    "c1 = 200 - 30 *stats.t.ppf(0.94,30)\n",
    "c2 = 200 - 30 *stats.t.ppf(0.98,30)\n",
    "c3 = 200 - 30 *stats.t.ppf(0.96,30)\n",
    "print(c1,'\\n',c2,'\\n',c3)\n",
    "print('\\nC.I OF 94% IS', stats.norm.interval(0.94,200,30))\n",
    "print('C.I OF 98% IS', stats.norm.interval(0.98,200,30))\n",
    "print('C.I OF 96% IS', stats.norm.interval(0.96,200,30))"
   ]
  },
  {
   "cell_type": "markdown",
   "id": "76fd1940",
   "metadata": {},
   "source": [
    "Q12)  Below are the scores obtained by a student in tests \n",
    "\n",
    "34,36,36,38,38,39,39,40,40,41,41,41,41,42,42,45,49,56\n",
    "\n",
    "\t•\tFind mean, median, variance, standard deviation.\n",
    "\t\n",
    "    •\tWhat can we say about the student marks? \n"
   ]
  },
  {
   "cell_type": "code",
   "execution_count": 83,
   "id": "a1ae0789",
   "metadata": {},
   "outputs": [
    {
     "name": "stdout",
     "output_type": "stream",
     "text": [
      "MEAN OF THE SCORES IS  41.0\n",
      "MEDIAN OF THE SCORE IS 40.5\n",
      "VARIENCE OF THE SCORE IS 24.11111111111111\n",
      "STANDARD DEVIATION OF THE SCORE IS 4.910306620885412\n"
     ]
    }
   ],
   "source": [
    "import numpy as np\n",
    "import pandas as pd\n",
    "test =pd.Series([34,36,36,38,38,39,39,40,40,41,41,41,41,42,42,45,49,56])\n",
    "print('MEAN OF THE SCORES IS ',np.mean(test))\n",
    "print('MEDIAN OF THE SCORE IS',np.median(test))\n",
    "print('VARIENCE OF THE SCORE IS',np.var(test))\n",
    "print('STANDARD DEVIATION OF THE SCORE IS',np.std(test))"
   ]
  },
  {
   "cell_type": "markdown",
   "id": "f7fab6b1",
   "metadata": {},
   "source": [
    "Q13) What is the nature of skewness when mean, median of data are equal?\n",
    "\n",
    "A. If the mean is equal to the median, the distribution has zero skewness or symmetrical"
   ]
  },
  {
   "cell_type": "markdown",
   "id": "aafd71e8",
   "metadata": {},
   "source": [
    "Q14) What is the nature of skewness when mean > median ?\n",
    "\n",
    "A. If the mean > median, the distribution is positively skewed or right skewed."
   ]
  },
  {
   "cell_type": "markdown",
   "id": "b08693c1",
   "metadata": {},
   "source": [
    "Q15) What is the nature of skewness when median > mean?\n",
    "\n",
    "A. If the mean is less than the median, the distribution is negatively skewed or left skewed."
   ]
  },
  {
   "cell_type": "markdown",
   "id": "9883acf0",
   "metadata": {},
   "source": [
    "Q16) What does positive kurtosis value indicates for a data ?\n",
    "\n",
    "A. Data is normally distributed and kurtosis value is 0."
   ]
  },
  {
   "cell_type": "markdown",
   "id": "3635176f",
   "metadata": {},
   "source": [
    "Q17) What does negative kurtosis value indicates for a data?\n",
    "\n",
    "A. Negative excess values of kurtosis indicate that a distribution is flat and has thin tails than normal distribution"
   ]
  },
  {
   "cell_type": "markdown",
   "id": "e073cf9e",
   "metadata": {},
   "source": [
    "Q18) Answer the below questions using the below boxplot visualization.\n",
    "\n",
    "A. What can we say about the distribution of the data?\n",
    "    \n",
    "    Lets assume the graph in case of age of childrens in a flat.\n",
    "    so 50% of children is above 10 yrs of age and childrens above 15 yrs of age is exactly 40%.\n",
    "\n",
    "B. What is nature of skewness of the data?\n",
    "\n",
    "    It is left skewed, median greater than mean\n",
    "    \n",
    "C. What will be the IQR of the data (approximately)?  ",
    "\n",
    "\n",
    "    8"
   ]
  },
  {
   "cell_type": "markdown",
   "id": "c7958347",
   "metadata": {},
   "source": [
    "Q19) Comment on the below Boxplot visualizations? \n",
    "\n",
    "Draw an Inference from the distribution of data for Boxplot 1 with respect Boxplot 2.\n",
    "\n",
    "A. By observing the boxplot we can see that the whiskers level of box plot 2 is higher than box plot 1.\n",
    "   mean and median is equal, so it is symmetrical."
   ]
  },
  {
   "cell_type": "code",
   "execution_count": null,
   "id": "da1d93ef",
   "metadata": {},
   "outputs": [],
   "source": []
  },
  {
   "cell_type": "markdown",
   "id": "7a592b05",
   "metadata": {},
   "source": [
    "Q 20) Calculate probability from the given dataset for the below cases\n",
    "\n",
    "Data _set: Cars.csv\n",
    "\n",
    "Calculate the probability of MPG  of Cars for the below cases.\n",
    "\n",
    "       MPG <- Cars$MPG\n",
    "       \n",
    "\t•\tP(MPG>38)\n",
    "    \n",
    "\t•\tP(MPG<40)\n",
    "    \n",
    "c.    P (20<MPG<50)\n"
   ]
  },
  {
   "cell_type": "code",
   "execution_count": 18,
   "id": "227fb538",
   "metadata": {},
   "outputs": [
    {
     "name": "stdout",
     "output_type": "stream",
     "text": [
      "   HP        MPG  VOL          SP         WT\n",
      "0  49  53.700681   89  104.185353  28.762059\n",
      "1  55  50.013401   92  105.461264  30.466833\n",
      "2  55  50.013401   92  105.461264  30.193597\n",
      "3  70  45.696322   92  113.461264  30.632114\n",
      "4  53  50.504232   92  104.461264  29.889149\n",
      "\n",
      "A. P(MPG>38) IS 0.3475939251582705\n",
      "B. P(MPG<40) IS 0.7293498762151616\n",
      "C. P(20<MPG<50) is  0.8988689169682046\n"
     ]
    }
   ],
   "source": [
    "from scipy import stats\n",
    "cars = pd.read_csv('//Users//nihadnazar//Desktop//Cars.csv')\n",
    "print(cars.head())\n",
    "print('\\nA. P(MPG>38) IS', 1 - stats.norm.cdf(38,cars.MPG.mean(),cars.MPG.std()))\n",
    "print('B. P(MPG<40) IS', stats.norm.cdf(40,cars.MPG.mean(),cars.MPG.std()))\n",
    "print('C. P(20<MPG<50) is ',(stats.norm.cdf(50,cars.MPG.mean(),cars.MPG.std()))-(stats.norm.cdf(20,cars.MPG.mean(),cars.MPG.std())))"
   ]
  },
  {
   "cell_type": "markdown",
   "id": "8156de0d",
   "metadata": {},
   "source": [
    "Q 21) Check whether the data follows normal distribution\n",
    "\n",
    "\tA•\tCheck whether the MPG of Cars follows Normal Distribution \n",
    "        Dataset: Cars.csv\n",
    "\n",
    "\n",
    "\tB•\tCheck Whether the Adipose Tissue (AT) and Waist Circumference(Waist)  from wc-at data set  follows Normal Distribution \n",
    "      Dataset: wc-at.csv"
   ]
  },
  {
   "cell_type": "code",
   "execution_count": 66,
   "id": "07c091c9",
   "metadata": {},
   "outputs": [
    {
     "name": "stdout",
     "output_type": "stream",
     "text": [
      "A. \n",
      "    HP        MPG  VOL          SP         WT\n",
      "0  49  53.700681   89  104.185353  28.762059\n",
      "1  55  50.013401   92  105.461264  30.466833\n",
      "2  55  50.013401   92  105.461264  30.193597\n",
      "3  70  45.696322   92  113.461264  30.632114\n",
      "4  53  50.504232   92  104.461264  29.889149\n",
      "\n",
      " MEAN OF MPG IS 34.422075728024666 \n",
      "MEDIAN OF MPG IS 35.15272697 \n",
      "MODE OF MPG IS 0    29.629936\n",
      "Name: MPG, dtype: float64 \n",
      "STANDARD DEVIATION OF MPG IS 9.131444731795982 \n",
      "SKEWNESS OF MPG IS -0.17794674747025727 \n",
      "KURTOSIS OF MPG IS -0.6116786559430913\n"
     ]
    },
    {
     "name": "stderr",
     "output_type": "stream",
     "text": [
      "/Users/nihadnazar/opt/anaconda3/lib/python3.9/site-packages/seaborn/distributions.py:2619: FutureWarning: `distplot` is a deprecated function and will be removed in a future version. Please adapt your code to use either `displot` (a figure-level function with similar flexibility) or `histplot` (an axes-level function for histograms).\n",
      "  warnings.warn(msg, FutureWarning)\n"
     ]
    },
    {
     "data": {
      "image/png": "[encoded data removed]",
      "text/plain": [
       "<Figure size 432x288 with 1 Axes>"
      ]
     },
     "metadata": {
      "needs_background": "light"
     },
     "output_type": "display_data"
    }
   ],
   "source": [
    "import pandas as pd\n",
    "import numpy as np\n",
    "from scipy import stats\n",
    "import seaborn as sns\n",
    "data = pd.read_csv('//Users//nihadnazar//Desktop//Cars.csv')\n",
    "print('A. \\n',data.head())\n",
    "sns.distplot(cars.MPG)\n",
    "print('\\n MEAN OF MPG IS',cars.MPG.mean(),'\\nMEDIAN OF MPG IS',cars.MPG.median(),'\\nMODE OF MPG IS',cars.MPG.mode(),'\\nSTANDARD DEVIATION OF MPG IS',cars.MPG.std(),'\\nSKEWNESS OF MPG IS',cars.MPG.skew(),'\\nKURTOSIS OF MPG IS',cars.MPG.kurtosis())"
   ]
  },
  {
   "cell_type": "code",
   "execution_count": 52,
   "id": "300c2c1d",
   "metadata": {},
   "outputs": [
    {
     "name": "stdout",
     "output_type": "stream",
     "text": [
      "   Waist     AT\n",
      "0  74.75  25.72\n",
      "1  72.60  25.89\n",
      "2  81.80  42.60\n",
      "3  83.95  42.80\n",
      "4  74.65  29.84\n",
      "\n",
      "WAIST\n",
      " MEAN OF WAIST IS 91.90183486238533 \n",
      "MEDIAN OF WAIST IS 90.8 \n",
      "MODE OF WAIST IS 0     94.5\n",
      "1    106.0\n",
      "2    108.5\n",
      "Name: Waist, dtype: float64 \n",
      "\n",
      "STANDARD DEVIATION OF WAIST IS 13.559115982678826 \n",
      "SKEWNESS OF WAIST IS 0.1340560824786468 \n",
      "KURTOSIS OF WAIST IS -1.1026666011768886\n",
      "\n",
      "\n",
      "AT\n",
      " MEAN OF AT IS 101.89403669724771 \n",
      "MEDIAN OF AT IS 96.54 \n",
      "MODE OF AT IS 0    121.0\n",
      "1    123.0\n",
      "Name: AT, dtype: float64 \n",
      "\n",
      "STANDARD DEVIATION OF AT IS 57.29476272231215 \n",
      "SKEWNESS OF AT IS 0.584869324127853 \n",
      "KURTOSIS OF AT IS -0.28557567504584425\n"
     ]
    },
    {
     "name": "stderr",
     "output_type": "stream",
     "text": [
      "/Users/nihadnazar/opt/anaconda3/lib/python3.9/site-packages/seaborn/distributions.py:2619: FutureWarning: `distplot` is a deprecated function and will be removed in a future version. Please adapt your code to use either `displot` (a figure-level function with similar flexibility) or `histplot` (an axes-level function for histograms).\n",
      "  warnings.warn(msg, FutureWarning)\n"
     ]
    },
    {
     "data": {
      "image/png": "[encoded data removed]",
      "text/plain": [
       "<Figure size 432x288 with 1 Axes>"
      ]
     },
     "metadata": {
      "needs_background": "light"
     },
     "output_type": "display_data"
    }
   ],
   "source": [
    "import pandas as pd\n",
    "import numpy as np\n",
    "from scipy import stats\n",
    "import seaborn as sns\n",
    "data2 = pd.read_csv('//Users//nihadnazar//Desktop//wc-at.csv')\n",
    "print(data2.head())\n",
    "sns.distplot(data2.Waist)\n",
    "print('\\nWAIST\\n MEAN OF WAIST IS',data2.Waist.mean(),'\\nMEDIAN OF WAIST IS',data2.Waist.median(),'\\nMODE OF WAIST IS',data2.Waist.mode(),'\\n\\nSTANDARD DEVIATION OF WAIST IS',data2.Waist.std(),'\\nSKEWNESS OF WAIST IS',data2.Waist.skew(),'\\nKURTOSIS OF WAIST IS',data2.Waist.kurtosis())"
   ]
  },
  {
   "cell_type": "code",
   "execution_count": 54,
   "id": "ba881b10",
   "metadata": {},
   "outputs": [
    {
     "name": "stderr",
     "output_type": "stream",
     "text": [
      "/Users/nihadnazar/opt/anaconda3/lib/python3.9/site-packages/seaborn/distributions.py:2619: FutureWarning: `distplot` is a deprecated function and will be removed in a future version. Please adapt your code to use either `displot` (a figure-level function with similar flexibility) or `histplot` (an axes-level function for histograms).\n",
      "  warnings.warn(msg, FutureWarning)\n"
     ]
    },
    {
     "name": "stdout",
     "output_type": "stream",
     "text": [
      "\n",
      "\n",
      "AT\n",
      " MEAN OF AT IS 101.89403669724771 \n",
      "MEDIAN OF AT IS 96.54 \n",
      "MODE OF AT IS 0    121.0\n",
      "1    123.0\n",
      "Name: AT, dtype: float64 \n",
      "\n",
      "STANDARD DEVIATION OF AT IS 57.29476272231215 \n",
      "SKEWNESS OF AT IS 0.584869324127853 \n",
      "KURTOSIS OF AT IS -0.28557567504584425\n"
     ]
    },
    {
     "data": {
      "image/png": "[encoded data removed]",
      "text/plain": [
       "<Figure size 432x288 with 1 Axes>"
      ]
     },
     "metadata": {
      "needs_background": "light"
     },
     "output_type": "display_data"
    }
   ],
   "source": [
    "sns.distplot(data2.AT)\n",
    "print('\\n\\nAT\\n MEAN OF AT IS',data2.AT.mean(),'\\nMEDIAN OF AT IS',data2.AT.median(),'\\nMODE OF AT IS',data2.AT.mode(),'\\n\\nSTANDARD DEVIATION OF AT IS',data2.AT.std(),'\\nSKEWNESS OF AT IS',data2.AT.skew(),'\\nKURTOSIS OF AT IS',data2.AT.kurtosis())"
   ]
  },
  {
   "cell_type": "markdown",
   "id": "6b643b09",
   "metadata": {},
   "source": [
    "Q 22) Calculate the Z scores of  90% confidence interval,94% confidence interval, 60% confidence interval \n"
   ]
  },
  {
   "cell_type": "code",
   "execution_count": 56,
   "id": "18f81ed8",
   "metadata": {},
   "outputs": [
    {
     "name": "stdout",
     "output_type": "stream",
     "text": [
      "Z SCORE OF 90% IS  1.2815515655446004\n",
      "Z SCORE OF 94% IS  1.5547735945968535\n",
      "Z SCORE OF 60% IS  0.2533471031357997\n"
     ]
    }
   ],
   "source": [
    "from scipy import stats\n",
    "print('Z SCORE OF 90% IS ',stats.norm.ppf(0.90))\n",
    "print('Z SCORE OF 94% IS ',stats.norm.ppf(0.94))\n",
    "print('Z SCORE OF 60% IS ',stats.norm.ppf(0.60))"
   ]
  },
  {
   "cell_type": "markdown",
   "id": "46319db7",
   "metadata": {},
   "source": [
    "Q 23) Calculate the t scores of 95% confidence interval, 96% confidence interval, 99% confidence interval for sample size of 25\n"
   ]
  },
  {
   "cell_type": "code",
   "execution_count": 60,
   "id": "57684b90",
   "metadata": {},
   "outputs": [
    {
     "name": "stdout",
     "output_type": "stream",
     "text": [
      "T SCORE OF 90% IS  -1.7108820799094282\n",
      "T SCORE OF 94% IS  -1.8280511719596344\n",
      "T SCORE OF 60% IS  -2.4921594731575762\n"
     ]
    }
   ],
   "source": [
    "from scipy import stats\n",
    "print('T SCORE OF 90% IS ',stats.t.ppf(0.05,25-1))\n",
    "print('T SCORE OF 94% IS ',stats.t.ppf(0.04,25-1))\n",
    "print('T SCORE OF 60% IS ',stats.t.ppf(0.01,25-1))"
   ]
  },
  {
   "cell_type": "markdown",
   "id": "3b3439c1",
   "metadata": {},
   "source": [
    "Q 24)   A Government  company claims that an average light bulb lasts 270 days. A researcher randomly selects 18 bulbs for testing. The sampled bulbs last an average of 260 days, with a standard deviation of 90 days. If the CEO's claim were true, what is the probability that 18 randomly selected bulbs would have an average life of no more than 260 days\n",
    "Hint:  \n",
    "   rcode   pt(tscore,df)  \n",
    " df  degrees of freedom\n"
   ]
  },
  {
   "cell_type": "code",
   "execution_count": 65,
   "id": "adb47e30",
   "metadata": {},
   "outputs": [
    {
     "name": "stdout",
     "output_type": "stream",
     "text": [
      "T SCORE IS -0.4714045207910317\n",
      "P(18 RANDOMLY SELECTED BULBS) IS  0.32167253567098364\n"
     ]
    }
   ],
   "source": [
    "#To calculate T score T = (X – μ) / [σ/√(n)]\n",
    "sample_mean = 260\n",
    "population_mean = 270\n",
    "sample_std_deviation = 90\n",
    "tscore = (260 -270)/(90/(18**0.5))\n",
    "print('T SCORE IS',tscore)\n",
    "print('P(18 RANDOMLY SELECTED BULBS) IS ',stats.t.cdf(tscore,18-1))"
   ]
  }
 ],
 "metadata": {
  "kernelspec": {
   "display_name": "Python 3 (ipykernel)",
   "language": "python",
   "name": "python3"
  },
  "language_info": {
   "codemirror_mode": {
    "name": "ipython",
    "version": 3
   },
   "file_extension": ".py",
   "mimetype": "text/x-python",
   "name": "python",
   "nbconvert_exporter": "python",
   "pygments_lexer": "ipython3",
   "version": "3.9.12"
  }
 },
 "nbformat": 4,
 "nbformat_minor": 5
}
